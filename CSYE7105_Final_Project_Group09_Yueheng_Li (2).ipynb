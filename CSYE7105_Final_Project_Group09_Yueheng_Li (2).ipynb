{
 "cells": [
  {
   "cell_type": "markdown",
   "metadata": {},
   "source": [
    "## Paralleled CelebA Image Recognition Based On CNN Deep Learning\n",
    "### Group 09 Yueheng LI"
   ]
  },
  {
   "cell_type": "markdown",
   "metadata": {},
   "source": [
    "**Dataset**\n",
    "\n",
    "For this project I use the CelebA dataset (http://mmlab.ie.cuhk.edu.hk/projects/CelebA.html), which is available on Kaggle.\n",
    "\n",
    "Description of the CelebA dataset from kaggle (https://www.kaggle.com/jessicali9530/celeba-dataset):"
   ]
  },
  {
   "cell_type": "markdown",
   "metadata": {},
   "source": [
    "**Introduction of Dataset**\n",
    "\n",
    "A popular component of computer vision and deep learning revolves around identifying faces for various applications from logging into your phone with your face or searching through surveillance images for a particular suspect. This dataset is great for training and testing models for face detection, particularly for recognising facial attributes such as finding people with brown hair, are smiling, or wearing glasses. Images cover large pose variations, background clutter, diverse people, supported by a large quantity of images and rich annotations. This data was originally collected by researchers at MMLAB, The Chinese University of Hong Kong (specific reference in Acknowledgment section)."
   ]
  },
  {
   "cell_type": "markdown",
   "metadata": {},
   "source": [
    "**Data Files Overall**\n",
    "\n",
    "**img_align_celeba.zip:** All the face images, cropped and aligned\n",
    "\n",
    "\n",
    "**list_eval_partition.csv:** Recommended partitioning of images into training, validation, testing sets. Images 1-162770 are training, 162771-182637 are validation, 182638-202599 are testing\n",
    "\n",
    "\n",
    "**list_bbox_celeba.csv:** Bounding box information for each image. \"x_1\" and \"y_1\" represent the upper left point coordinate of bounding box. \"width\" and \"height\" represent the width and height of bounding box\n",
    "\n",
    "\n",
    "**list_landmarks_align_celeba.csv:** Image landmarks and their respective coordinates. There are 5 landmarks: left eye, right eye, nose, left mouth, right mouth\n",
    "    \n",
    "    \n",
    "**list_attr_celeba.csv:** Attribute labels for each image. There are 40 attributes. \"1\" represents positive while \"-1\" represents negative\n"
   ]
  },
  {
   "cell_type": "markdown",
   "metadata": {},
   "source": [
    "**Environment description**"
   ]
  },
  {
   "cell_type": "markdown",
   "metadata": {},
   "source": [
    "**Local Environment**"
   ]
  },
  {
   "cell_type": "markdown",
   "metadata": {},
   "source": [
    "The local configuration of my PC is CPU:Intel i7-10750H GPU:NVIDIA RTX2060 RAM:32GB "
   ]
  },
  {
   "cell_type": "markdown",
   "metadata": {},
   "source": [
    "The local environment of my PC:CUDA 11.4 + Tensorflow 2.5"
   ]
  },
  {
   "cell_type": "markdown",
   "metadata": {},
   "source": [
    "**OOD Environment**"
   ]
  },
  {
   "cell_type": "markdown",
   "metadata": {},
   "source": [
    "2 Core CPU + K80 GPU"
   ]
  },
  {
   "cell_type": "markdown",
   "metadata": {},
   "source": [
    "CUDA 11.4 + Tensorflow 2.8"
   ]
  },
  {
   "cell_type": "markdown",
   "metadata": {},
   "source": [
    "**Discovery Environment**"
   ]
  },
  {
   "cell_type": "markdown",
   "metadata": {},
   "source": [
    "2x Tesla V100-SXM2-32GB"
   ]
  },
  {
   "cell_type": "markdown",
   "metadata": {},
   "source": [
    "CUDA 11.4 + Tensorflow 2.8"
   ]
  },
  {
   "cell_type": "markdown",
   "metadata": {},
   "source": [
    "## 1. Import modules"
   ]
  },
  {
   "cell_type": "code",
   "execution_count": 1,
   "metadata": {},
   "outputs": [
    {
     "name": "stdout",
     "output_type": "stream",
     "text": [
      "2.8.0\n"
     ]
    }
   ],
   "source": [
    "import numpy as np\n",
    "import matplotlib.pyplot as plt\n",
    "import pandas as pd\n",
    "import tensorflow as tf\n",
    "import time\n",
    "import seaborn as sns\n",
    "from keras.preprocessing.image import ImageDataGenerator, array_to_img, img_to_array, load_img\n",
    "print(tf.__version__)"
   ]
  },
  {
   "cell_type": "markdown",
   "metadata": {},
   "source": [
    "### 1.1. Parallel setup / device check"
   ]
  },
  {
   "cell_type": "code",
   "execution_count": 2,
   "metadata": {},
   "outputs": [
    {
     "name": "stdout",
     "output_type": "stream",
     "text": [
      "Num GPUs Available:  1\n"
     ]
    }
   ],
   "source": [
    "print(\"Num GPUs Available: \", len(tf.config.experimental.list_physical_devices('GPU')))"
   ]
  },
  {
   "cell_type": "code",
   "execution_count": 3,
   "metadata": {},
   "outputs": [
    {
     "name": "stdout",
     "output_type": "stream",
     "text": [
      "[name: \"/device:CPU:0\"\n",
      "device_type: \"CPU\"\n",
      "memory_limit: 268435456\n",
      "locality {\n",
      "}\n",
      "incarnation: 8619942655533501526\n",
      "xla_global_id: -1\n",
      ", name: \"/device:GPU:0\"\n",
      "device_type: \"GPU\"\n",
      "memory_limit: 11319115776\n",
      "locality {\n",
      "  bus_id: 2\n",
      "  numa_node: 1\n",
      "  links {\n",
      "  }\n",
      "}\n",
      "incarnation: 10254236811840101705\n",
      "physical_device_desc: \"device: 0, name: Tesla K80, pci bus id: 0000:84:00.0, compute capability: 3.7\"\n",
      "xla_global_id: 416903419\n",
      "]\n"
     ]
    }
   ],
   "source": [
    "from tensorflow.python.client import device_lib\n",
    "print(device_lib.list_local_devices())"
   ]
  },
  {
   "cell_type": "code",
   "execution_count": 4,
   "metadata": {},
   "outputs": [
    {
     "name": "stdout",
     "output_type": "stream",
     "text": [
      "Sat Apr 30 18:40:55 2022       \n",
      "+-----------------------------------------------------------------------------+\n",
      "| NVIDIA-SMI 470.82.01    Driver Version: 470.82.01    CUDA Version: 11.4     |\n",
      "|-------------------------------+----------------------+----------------------+\n",
      "| GPU  Name        Persistence-M| Bus-Id        Disp.A | Volatile Uncorr. ECC |\n",
      "| Fan  Temp  Perf  Pwr:Usage/Cap|         Memory-Usage | GPU-Util  Compute M. |\n",
      "|                               |                      |               MIG M. |\n",
      "|===============================+======================+======================|\n",
      "|   0  Tesla K80           Off  | 00000000:84:00.0 Off |                    0 |\n",
      "| N/A   35C    P0    62W / 149W |    146MiB / 11441MiB |      0%      Default |\n",
      "|                               |                      |                  N/A |\n",
      "+-------------------------------+----------------------+----------------------+\n",
      "                                                                               \n",
      "+-----------------------------------------------------------------------------+\n",
      "| Processes:                                                                  |\n",
      "|  GPU   GI   CI        PID   Type   Process name                  GPU Memory |\n",
      "|        ID   ID                                                   Usage      |\n",
      "|=============================================================================|\n",
      "|    0   N/A  N/A     19924      C   ...conda3/2022.01/bin/python      143MiB |\n",
      "+-----------------------------------------------------------------------------+\n"
     ]
    }
   ],
   "source": [
    "!nvidia-smi"
   ]
  },
  {
   "cell_type": "code",
   "execution_count": 3,
   "metadata": {},
   "outputs": [],
   "source": [
    "#import tensorflow.compat.v1 as tf"
   ]
  },
  {
   "cell_type": "code",
   "execution_count": 4,
   "metadata": {},
   "outputs": [],
   "source": [
    "# config = tf.ConfigProto()\n",
    "# config.gpu_options.allow_growth = True\n",
    "# sess = tf.Session(config=config)"
   ]
  },
  {
   "cell_type": "markdown",
   "metadata": {},
   "source": [
    "# ------------------------------------------"
   ]
  },
  {
   "cell_type": "markdown",
   "metadata": {},
   "source": [
    "## 2. Load image label attributes"
   ]
  },
  {
   "cell_type": "code",
   "execution_count": 5,
   "metadata": {},
   "outputs": [],
   "source": [
    "MAIN_PATH = '../FinalProject/'\n",
    "DATA_PATH = MAIN_PATH + 'img_align_celeba/img_align_celeba/'\n",
    "ATTRIBUTE_PATH = MAIN_PATH + 'list_attr_celeba.csv'\n",
    "TEST_PIC_PATH = './test_pic/'\n",
    "\n",
    "SMILING_PATH = '../FinalProject/New_data1/'"
   ]
  },
  {
   "cell_type": "code",
   "execution_count": 6,
   "metadata": {},
   "outputs": [
    {
     "name": "stdout",
     "output_type": "stream",
     "text": [
      "The time of the process: 0.5594215393066406 s\n"
     ]
    }
   ],
   "source": [
    "time1=time.time()\n",
    "dataset = pd.read_csv(ATTRIBUTE_PATH, index_col='image_id')\n",
    "time2=time.time()\n",
    "print(\"The time of the process:\",time2-time1,\"s\")"
   ]
  },
  {
   "cell_type": "markdown",
   "metadata": {},
   "source": [
    "### 2.1 With Dask Parallelism"
   ]
  },
  {
   "cell_type": "code",
   "execution_count": 7,
   "metadata": {},
   "outputs": [
    {
     "data": {
      "text/html": [
       "<table style=\"border: 2px solid white;\">\n",
       "<tr>\n",
       "<td style=\"vertical-align: top; border: 0px solid white\">\n",
       "<h3 style=\"text-align: left;\">Client</h3>\n",
       "<ul style=\"text-align: left; list-style: none; margin: 0; padding: 0;\">\n",
       "  <li><b>Scheduler: </b>tcp://127.0.0.1:36127</li>\n",
       "  <li><b>Dashboard: </b><a href='http://127.0.0.1:8787/status' target='_blank'>http://127.0.0.1:8787/status</a></li>\n",
       "</ul>\n",
       "</td>\n",
       "<td style=\"vertical-align: top; border: 0px solid white\">\n",
       "<h3 style=\"text-align: left;\">Cluster</h3>\n",
       "<ul style=\"text-align: left; list-style:none; margin: 0; padding: 0;\">\n",
       "  <li><b>Workers: </b>4</li>\n",
       "  <li><b>Cores: </b>4</li>\n",
       "  <li><b>Memory: </b>8.00 GiB</li>\n",
       "</ul>\n",
       "</td>\n",
       "</tr>\n",
       "</table>"
      ],
      "text/plain": [
       "<Client: 'tcp://127.0.0.1:36127' processes=4 threads=4, memory=8.00 GiB>"
      ]
     },
     "execution_count": 7,
     "metadata": {},
     "output_type": "execute_result"
    }
   ],
   "source": [
    "import dask\n",
    "from dask.distributed import Client\n",
    "\n",
    "client = Client(n_workers=4)\n",
    "client"
   ]
  },
  {
   "cell_type": "code",
   "execution_count": 8,
   "metadata": {},
   "outputs": [
    {
     "name": "stdout",
     "output_type": "stream",
     "text": [
      "The time of the process with dask array: 0.018240928649902344 s\n"
     ]
    }
   ],
   "source": [
    "import dask.dataframe as dd\n",
    "import time\n",
    "\n",
    "time1=time.time()\n",
    "dataset1 = dd.read_csv(ATTRIBUTE_PATH)\n",
    "time2=time.time()\n",
    "print(\"The time of the process with dask array:\",time2-time1,\"s\")\n",
    "#dataset1.head()"
   ]
  },
  {
   "cell_type": "code",
   "execution_count": 9,
   "metadata": {},
   "outputs": [
    {
     "data": {
      "text/html": [
       "<div>\n",
       "<style scoped>\n",
       "    .dataframe tbody tr th:only-of-type {\n",
       "        vertical-align: middle;\n",
       "    }\n",
       "\n",
       "    .dataframe tbody tr th {\n",
       "        vertical-align: top;\n",
       "    }\n",
       "\n",
       "    .dataframe thead th {\n",
       "        text-align: right;\n",
       "    }\n",
       "</style>\n",
       "<table border=\"1\" class=\"dataframe\">\n",
       "  <thead>\n",
       "    <tr style=\"text-align: right;\">\n",
       "      <th></th>\n",
       "      <th>5_o_Clock_Shadow</th>\n",
       "      <th>Arched_Eyebrows</th>\n",
       "      <th>Attractive</th>\n",
       "      <th>Bags_Under_Eyes</th>\n",
       "      <th>Bald</th>\n",
       "      <th>Bangs</th>\n",
       "      <th>Big_Lips</th>\n",
       "      <th>Big_Nose</th>\n",
       "      <th>Black_Hair</th>\n",
       "      <th>Blond_Hair</th>\n",
       "      <th>...</th>\n",
       "      <th>Sideburns</th>\n",
       "      <th>Smiling</th>\n",
       "      <th>Straight_Hair</th>\n",
       "      <th>Wavy_Hair</th>\n",
       "      <th>Wearing_Earrings</th>\n",
       "      <th>Wearing_Hat</th>\n",
       "      <th>Wearing_Lipstick</th>\n",
       "      <th>Wearing_Necklace</th>\n",
       "      <th>Wearing_Necktie</th>\n",
       "      <th>Young</th>\n",
       "    </tr>\n",
       "    <tr>\n",
       "      <th>image_id</th>\n",
       "      <th></th>\n",
       "      <th></th>\n",
       "      <th></th>\n",
       "      <th></th>\n",
       "      <th></th>\n",
       "      <th></th>\n",
       "      <th></th>\n",
       "      <th></th>\n",
       "      <th></th>\n",
       "      <th></th>\n",
       "      <th></th>\n",
       "      <th></th>\n",
       "      <th></th>\n",
       "      <th></th>\n",
       "      <th></th>\n",
       "      <th></th>\n",
       "      <th></th>\n",
       "      <th></th>\n",
       "      <th></th>\n",
       "      <th></th>\n",
       "      <th></th>\n",
       "    </tr>\n",
       "  </thead>\n",
       "  <tbody>\n",
       "    <tr>\n",
       "      <th>000001.jpg</th>\n",
       "      <td>-1</td>\n",
       "      <td>1</td>\n",
       "      <td>1</td>\n",
       "      <td>-1</td>\n",
       "      <td>-1</td>\n",
       "      <td>-1</td>\n",
       "      <td>-1</td>\n",
       "      <td>-1</td>\n",
       "      <td>-1</td>\n",
       "      <td>-1</td>\n",
       "      <td>...</td>\n",
       "      <td>-1</td>\n",
       "      <td>1</td>\n",
       "      <td>1</td>\n",
       "      <td>-1</td>\n",
       "      <td>1</td>\n",
       "      <td>-1</td>\n",
       "      <td>1</td>\n",
       "      <td>-1</td>\n",
       "      <td>-1</td>\n",
       "      <td>1</td>\n",
       "    </tr>\n",
       "    <tr>\n",
       "      <th>000002.jpg</th>\n",
       "      <td>-1</td>\n",
       "      <td>-1</td>\n",
       "      <td>-1</td>\n",
       "      <td>1</td>\n",
       "      <td>-1</td>\n",
       "      <td>-1</td>\n",
       "      <td>-1</td>\n",
       "      <td>1</td>\n",
       "      <td>-1</td>\n",
       "      <td>-1</td>\n",
       "      <td>...</td>\n",
       "      <td>-1</td>\n",
       "      <td>1</td>\n",
       "      <td>-1</td>\n",
       "      <td>-1</td>\n",
       "      <td>-1</td>\n",
       "      <td>-1</td>\n",
       "      <td>-1</td>\n",
       "      <td>-1</td>\n",
       "      <td>-1</td>\n",
       "      <td>1</td>\n",
       "    </tr>\n",
       "    <tr>\n",
       "      <th>000003.jpg</th>\n",
       "      <td>-1</td>\n",
       "      <td>-1</td>\n",
       "      <td>-1</td>\n",
       "      <td>-1</td>\n",
       "      <td>-1</td>\n",
       "      <td>-1</td>\n",
       "      <td>1</td>\n",
       "      <td>-1</td>\n",
       "      <td>-1</td>\n",
       "      <td>-1</td>\n",
       "      <td>...</td>\n",
       "      <td>-1</td>\n",
       "      <td>-1</td>\n",
       "      <td>-1</td>\n",
       "      <td>1</td>\n",
       "      <td>-1</td>\n",
       "      <td>-1</td>\n",
       "      <td>-1</td>\n",
       "      <td>-1</td>\n",
       "      <td>-1</td>\n",
       "      <td>1</td>\n",
       "    </tr>\n",
       "    <tr>\n",
       "      <th>000004.jpg</th>\n",
       "      <td>-1</td>\n",
       "      <td>-1</td>\n",
       "      <td>1</td>\n",
       "      <td>-1</td>\n",
       "      <td>-1</td>\n",
       "      <td>-1</td>\n",
       "      <td>-1</td>\n",
       "      <td>-1</td>\n",
       "      <td>-1</td>\n",
       "      <td>-1</td>\n",
       "      <td>...</td>\n",
       "      <td>-1</td>\n",
       "      <td>-1</td>\n",
       "      <td>1</td>\n",
       "      <td>-1</td>\n",
       "      <td>1</td>\n",
       "      <td>-1</td>\n",
       "      <td>1</td>\n",
       "      <td>1</td>\n",
       "      <td>-1</td>\n",
       "      <td>1</td>\n",
       "    </tr>\n",
       "    <tr>\n",
       "      <th>000005.jpg</th>\n",
       "      <td>-1</td>\n",
       "      <td>1</td>\n",
       "      <td>1</td>\n",
       "      <td>-1</td>\n",
       "      <td>-1</td>\n",
       "      <td>-1</td>\n",
       "      <td>1</td>\n",
       "      <td>-1</td>\n",
       "      <td>-1</td>\n",
       "      <td>-1</td>\n",
       "      <td>...</td>\n",
       "      <td>-1</td>\n",
       "      <td>-1</td>\n",
       "      <td>-1</td>\n",
       "      <td>-1</td>\n",
       "      <td>-1</td>\n",
       "      <td>-1</td>\n",
       "      <td>1</td>\n",
       "      <td>-1</td>\n",
       "      <td>-1</td>\n",
       "      <td>1</td>\n",
       "    </tr>\n",
       "    <tr>\n",
       "      <th>...</th>\n",
       "      <td>...</td>\n",
       "      <td>...</td>\n",
       "      <td>...</td>\n",
       "      <td>...</td>\n",
       "      <td>...</td>\n",
       "      <td>...</td>\n",
       "      <td>...</td>\n",
       "      <td>...</td>\n",
       "      <td>...</td>\n",
       "      <td>...</td>\n",
       "      <td>...</td>\n",
       "      <td>...</td>\n",
       "      <td>...</td>\n",
       "      <td>...</td>\n",
       "      <td>...</td>\n",
       "      <td>...</td>\n",
       "      <td>...</td>\n",
       "      <td>...</td>\n",
       "      <td>...</td>\n",
       "      <td>...</td>\n",
       "      <td>...</td>\n",
       "    </tr>\n",
       "    <tr>\n",
       "      <th>202595.jpg</th>\n",
       "      <td>-1</td>\n",
       "      <td>-1</td>\n",
       "      <td>1</td>\n",
       "      <td>-1</td>\n",
       "      <td>-1</td>\n",
       "      <td>-1</td>\n",
       "      <td>1</td>\n",
       "      <td>-1</td>\n",
       "      <td>-1</td>\n",
       "      <td>1</td>\n",
       "      <td>...</td>\n",
       "      <td>-1</td>\n",
       "      <td>-1</td>\n",
       "      <td>-1</td>\n",
       "      <td>-1</td>\n",
       "      <td>-1</td>\n",
       "      <td>-1</td>\n",
       "      <td>1</td>\n",
       "      <td>-1</td>\n",
       "      <td>-1</td>\n",
       "      <td>1</td>\n",
       "    </tr>\n",
       "    <tr>\n",
       "      <th>202596.jpg</th>\n",
       "      <td>-1</td>\n",
       "      <td>-1</td>\n",
       "      <td>-1</td>\n",
       "      <td>-1</td>\n",
       "      <td>-1</td>\n",
       "      <td>1</td>\n",
       "      <td>1</td>\n",
       "      <td>-1</td>\n",
       "      <td>-1</td>\n",
       "      <td>1</td>\n",
       "      <td>...</td>\n",
       "      <td>-1</td>\n",
       "      <td>1</td>\n",
       "      <td>1</td>\n",
       "      <td>-1</td>\n",
       "      <td>-1</td>\n",
       "      <td>-1</td>\n",
       "      <td>-1</td>\n",
       "      <td>-1</td>\n",
       "      <td>-1</td>\n",
       "      <td>1</td>\n",
       "    </tr>\n",
       "    <tr>\n",
       "      <th>202597.jpg</th>\n",
       "      <td>-1</td>\n",
       "      <td>-1</td>\n",
       "      <td>-1</td>\n",
       "      <td>-1</td>\n",
       "      <td>-1</td>\n",
       "      <td>-1</td>\n",
       "      <td>-1</td>\n",
       "      <td>-1</td>\n",
       "      <td>1</td>\n",
       "      <td>-1</td>\n",
       "      <td>...</td>\n",
       "      <td>-1</td>\n",
       "      <td>1</td>\n",
       "      <td>-1</td>\n",
       "      <td>-1</td>\n",
       "      <td>-1</td>\n",
       "      <td>-1</td>\n",
       "      <td>-1</td>\n",
       "      <td>-1</td>\n",
       "      <td>-1</td>\n",
       "      <td>1</td>\n",
       "    </tr>\n",
       "    <tr>\n",
       "      <th>202598.jpg</th>\n",
       "      <td>-1</td>\n",
       "      <td>1</td>\n",
       "      <td>1</td>\n",
       "      <td>-1</td>\n",
       "      <td>-1</td>\n",
       "      <td>-1</td>\n",
       "      <td>1</td>\n",
       "      <td>-1</td>\n",
       "      <td>1</td>\n",
       "      <td>-1</td>\n",
       "      <td>...</td>\n",
       "      <td>-1</td>\n",
       "      <td>1</td>\n",
       "      <td>-1</td>\n",
       "      <td>1</td>\n",
       "      <td>1</td>\n",
       "      <td>-1</td>\n",
       "      <td>1</td>\n",
       "      <td>-1</td>\n",
       "      <td>-1</td>\n",
       "      <td>1</td>\n",
       "    </tr>\n",
       "    <tr>\n",
       "      <th>202599.jpg</th>\n",
       "      <td>-1</td>\n",
       "      <td>1</td>\n",
       "      <td>1</td>\n",
       "      <td>-1</td>\n",
       "      <td>-1</td>\n",
       "      <td>-1</td>\n",
       "      <td>-1</td>\n",
       "      <td>-1</td>\n",
       "      <td>-1</td>\n",
       "      <td>1</td>\n",
       "      <td>...</td>\n",
       "      <td>-1</td>\n",
       "      <td>-1</td>\n",
       "      <td>-1</td>\n",
       "      <td>1</td>\n",
       "      <td>-1</td>\n",
       "      <td>-1</td>\n",
       "      <td>1</td>\n",
       "      <td>-1</td>\n",
       "      <td>-1</td>\n",
       "      <td>1</td>\n",
       "    </tr>\n",
       "  </tbody>\n",
       "</table>\n",
       "<p>202599 rows × 40 columns</p>\n",
       "</div>"
      ],
      "text/plain": [
       "            5_o_Clock_Shadow  Arched_Eyebrows  Attractive  Bags_Under_Eyes  \\\n",
       "image_id                                                                     \n",
       "000001.jpg                -1                1           1               -1   \n",
       "000002.jpg                -1               -1          -1                1   \n",
       "000003.jpg                -1               -1          -1               -1   \n",
       "000004.jpg                -1               -1           1               -1   \n",
       "000005.jpg                -1                1           1               -1   \n",
       "...                      ...              ...         ...              ...   \n",
       "202595.jpg                -1               -1           1               -1   \n",
       "202596.jpg                -1               -1          -1               -1   \n",
       "202597.jpg                -1               -1          -1               -1   \n",
       "202598.jpg                -1                1           1               -1   \n",
       "202599.jpg                -1                1           1               -1   \n",
       "\n",
       "            Bald  Bangs  Big_Lips  Big_Nose  Black_Hair  Blond_Hair  ...  \\\n",
       "image_id                                                             ...   \n",
       "000001.jpg    -1     -1        -1        -1          -1          -1  ...   \n",
       "000002.jpg    -1     -1        -1         1          -1          -1  ...   \n",
       "000003.jpg    -1     -1         1        -1          -1          -1  ...   \n",
       "000004.jpg    -1     -1        -1        -1          -1          -1  ...   \n",
       "000005.jpg    -1     -1         1        -1          -1          -1  ...   \n",
       "...          ...    ...       ...       ...         ...         ...  ...   \n",
       "202595.jpg    -1     -1         1        -1          -1           1  ...   \n",
       "202596.jpg    -1      1         1        -1          -1           1  ...   \n",
       "202597.jpg    -1     -1        -1        -1           1          -1  ...   \n",
       "202598.jpg    -1     -1         1        -1           1          -1  ...   \n",
       "202599.jpg    -1     -1        -1        -1          -1           1  ...   \n",
       "\n",
       "            Sideburns  Smiling  Straight_Hair  Wavy_Hair  Wearing_Earrings  \\\n",
       "image_id                                                                     \n",
       "000001.jpg         -1        1              1         -1                 1   \n",
       "000002.jpg         -1        1             -1         -1                -1   \n",
       "000003.jpg         -1       -1             -1          1                -1   \n",
       "000004.jpg         -1       -1              1         -1                 1   \n",
       "000005.jpg         -1       -1             -1         -1                -1   \n",
       "...               ...      ...            ...        ...               ...   \n",
       "202595.jpg         -1       -1             -1         -1                -1   \n",
       "202596.jpg         -1        1              1         -1                -1   \n",
       "202597.jpg         -1        1             -1         -1                -1   \n",
       "202598.jpg         -1        1             -1          1                 1   \n",
       "202599.jpg         -1       -1             -1          1                -1   \n",
       "\n",
       "            Wearing_Hat  Wearing_Lipstick  Wearing_Necklace  Wearing_Necktie  \\\n",
       "image_id                                                                       \n",
       "000001.jpg           -1                 1                -1               -1   \n",
       "000002.jpg           -1                -1                -1               -1   \n",
       "000003.jpg           -1                -1                -1               -1   \n",
       "000004.jpg           -1                 1                 1               -1   \n",
       "000005.jpg           -1                 1                -1               -1   \n",
       "...                 ...               ...               ...              ...   \n",
       "202595.jpg           -1                 1                -1               -1   \n",
       "202596.jpg           -1                -1                -1               -1   \n",
       "202597.jpg           -1                -1                -1               -1   \n",
       "202598.jpg           -1                 1                -1               -1   \n",
       "202599.jpg           -1                 1                -1               -1   \n",
       "\n",
       "            Young  \n",
       "image_id           \n",
       "000001.jpg      1  \n",
       "000002.jpg      1  \n",
       "000003.jpg      1  \n",
       "000004.jpg      1  \n",
       "000005.jpg      1  \n",
       "...           ...  \n",
       "202595.jpg      1  \n",
       "202596.jpg      1  \n",
       "202597.jpg      1  \n",
       "202598.jpg      1  \n",
       "202599.jpg      1  \n",
       "\n",
       "[202599 rows x 40 columns]"
      ]
     },
     "execution_count": 9,
     "metadata": {},
     "output_type": "execute_result"
    }
   ],
   "source": [
    "dataset"
   ]
  },
  {
   "cell_type": "markdown",
   "metadata": {},
   "source": [
    "### 2.2 Exploratory Data Analysis"
   ]
  },
  {
   "cell_type": "code",
   "execution_count": 10,
   "metadata": {},
   "outputs": [
    {
     "name": "stdout",
     "output_type": "stream",
     "text": [
      "0 5_o_Clock_Shadow\n",
      "1 Arched_Eyebrows\n",
      "2 Attractive\n",
      "3 Bags_Under_Eyes\n",
      "4 Bald\n",
      "5 Bangs\n",
      "6 Big_Lips\n",
      "7 Big_Nose\n",
      "8 Black_Hair\n",
      "9 Blond_Hair\n",
      "10 Blurry\n",
      "11 Brown_Hair\n",
      "12 Bushy_Eyebrows\n",
      "13 Chubby\n",
      "14 Double_Chin\n",
      "15 Eyeglasses\n",
      "16 Goatee\n",
      "17 Gray_Hair\n",
      "18 Heavy_Makeup\n",
      "19 High_Cheekbones\n",
      "20 Male\n",
      "21 Mouth_Slightly_Open\n",
      "22 Mustache\n",
      "23 Narrow_Eyes\n",
      "24 No_Beard\n",
      "25 Oval_Face\n",
      "26 Pale_Skin\n",
      "27 Pointy_Nose\n",
      "28 Receding_Hairline\n",
      "29 Rosy_Cheeks\n",
      "30 Sideburns\n",
      "31 Smiling\n",
      "32 Straight_Hair\n",
      "33 Wavy_Hair\n",
      "34 Wearing_Earrings\n",
      "35 Wearing_Hat\n",
      "36 Wearing_Lipstick\n",
      "37 Wearing_Necklace\n",
      "38 Wearing_Necktie\n",
      "39 Young\n"
     ]
    }
   ],
   "source": [
    "#List of available attributes\n",
    "for i, j in enumerate(dataset.columns):\n",
    "    print(i, j)"
   ]
  },
  {
   "cell_type": "code",
   "execution_count": 11,
   "metadata": {},
   "outputs": [
    {
     "data": {
      "text/plain": [
       "Smiling    1\n",
       "Male      -1\n",
       "Young      1\n",
       "Name: 000510.jpg, dtype: int64"
      ]
     },
     "execution_count": 11,
     "metadata": {},
     "output_type": "execute_result"
    },
    {
     "data": {
      "image/png": "[encoded data removed]",
      "text/plain": [
       "<Figure size 432x288 with 1 Axes>"
      ]
     },
     "metadata": {
      "needs_background": "light"
     },
     "output_type": "display_data"
    }
   ],
   "source": [
    "# plot picture and attributes\n",
    "img = load_img('../FinalProject/img_align_celeba/img_align_celeba/000510.jpg')\n",
    "plt.grid(False)\n",
    "plt.imshow(img)\n",
    "dataset.loc['../FinalProject/img_align_celeba/img_align_celeba/000510.jpg'.split('/')[-1]][['Smiling','Male','Young']] #some attributes"
   ]
  },
  {
   "cell_type": "code",
   "execution_count": 12,
   "metadata": {},
   "outputs": [
    {
     "data": {
      "image/png": "[encoded data removed]",
      "text/plain": [
       "<Figure size 432x288 with 1 Axes>"
      ]
     },
     "metadata": {
      "needs_background": "light"
     },
     "output_type": "display_data"
    }
   ],
   "source": [
    "# Female or Male?\n",
    "plt.title('Smiling or Not')\n",
    "sns.countplot(y='Smiling', data=dataset, color=\"c\")\n",
    "plt.show()"
   ]
  },
  {
   "cell_type": "code",
   "execution_count": 21,
   "metadata": {},
   "outputs": [],
   "source": [
    "#dataset1.replace(-1,0)\n",
    "# arr=pd.DataFrame(dataset1.iloc[:,1:].sum(axis=0))\n",
    "# arr.columns=['labels']\n",
    "# arr.sort_values(by='labels',ascending=False)\n",
    "# plt.figure(figsize=(16,8))\n",
    "# plt.bar(arr.index,arr['labels'])\n",
    "# plt.xticks(rotation=90)\n",
    "# plt.show()"
   ]
  },
  {
   "cell_type": "code",
   "execution_count": 23,
   "metadata": {},
   "outputs": [],
   "source": [
    "# import seaborn as sns\n",
    "# plt.figure(figsize=(16,12))\n",
    "# sns.heatmap(dataset1.iloc[:,1:].corr(), cmap=\"RdYlBu\", vmin=-1, vmax=1)"
   ]
  },
  {
   "cell_type": "markdown",
   "metadata": {},
   "source": [
    "## 3. Data pre-processing\n",
    "*Modified on local machine and we use pre-processed dataset after modification*"
   ]
  },
  {
   "cell_type": "code",
   "execution_count": 22,
   "metadata": {},
   "outputs": [],
   "source": [
    "# #split the training and testing set\n",
    "# from sklearn.model_selection import train_test_split\n",
    "# train_set, test_set = train_test_split(dataset, test_size = 0.2, random_state = 0)"
   ]
  },
  {
   "cell_type": "code",
   "execution_count": 17,
   "metadata": {},
   "outputs": [],
   "source": [
    "# train_set_not_smiling = train_set.query('Smiling == -1')\n",
    "# train_set_smiling = train_set.query('Smiling == +1')\n",
    "\n",
    "# test_set_not_smiling = test_set.query('Smiling == -1')\n",
    "# test_set_smiling = test_set.query('Smiling == +1')"
   ]
  },
  {
   "cell_type": "code",
   "execution_count": 21,
   "metadata": {},
   "outputs": [
    {
     "name": "stdout",
     "output_type": "stream",
     "text": [
      "The time of the process: 464.28617238998413 s\n"
     ]
    }
   ],
   "source": [
    "#Copy the train and test data to the appropriate folder\n",
    "# import shutil\n",
    "# import time\n",
    "# time1=time.time()\n",
    "\n",
    "\n",
    "# for img in train_set_not_smiling.index.values:\n",
    "#     shutil.copy(DATA_PATH + img, SMILING_PATH + \"train_set/not_smiling\")\n",
    "# for img in train_set_smiling.index.values:\n",
    "#     shutil.copy(DATA_PATH + img, SMILING_PATH + \"train_set/smiling\")\n",
    "# for img in test_set_not_smiling.index.values:\n",
    "#     shutil.copy(DATA_PATH + img, SMILING_PATH + \"test_set/not_smiling\")\n",
    "# for img in test_set_smiling.index.values:\n",
    "#     shutil.copy(DATA_PATH + img, SMILING_PATH + \"test_set/smiling\")\n",
    "    \n",
    "# time2=time.time()\n",
    "# print(\"The time of the process:\",time2-time1,\"s\")"
   ]
  },
  {
   "cell_type": "markdown",
   "metadata": {},
   "source": [
    "## 3. Data Loader（Using keras DataGenerator）"
   ]
  },
  {
   "cell_type": "code",
   "execution_count": 13,
   "metadata": {},
   "outputs": [],
   "source": [
    "TARGET_SIZE = (64, 64)\n",
    "BATCH_SIZE = 128\n",
    "from keras.preprocessing.image import ImageDataGenerator\n",
    "\n",
    "train_datagen = ImageDataGenerator(\n",
    "        rescale=1./255,\n",
    "        shear_range=0.2,\n",
    "        zoom_range=0.2,\n",
    "        horizontal_flip=True)\n",
    "test_datagen = ImageDataGenerator(rescale=1./255)"
   ]
  },
  {
   "cell_type": "code",
   "execution_count": 14,
   "metadata": {},
   "outputs": [
    {
     "name": "stdout",
     "output_type": "stream",
     "text": [
      "Found 162079 images belonging to 2 classes.\n",
      "The time of the process: 4.3606953620910645 s\n"
     ]
    }
   ],
   "source": [
    "time1=time.time()\n",
    "\n",
    "train_generator = train_datagen.flow_from_directory(\n",
    "    SMILING_PATH + 'train_set',\n",
    "    target_size = TARGET_SIZE,\n",
    "    batch_size = BATCH_SIZE,\n",
    "    class_mode = 'binary')\n",
    "\n",
    "time2=time.time()\n",
    "print(\"The time of the process:\",time2-time1,\"s\")"
   ]
  },
  {
   "cell_type": "code",
   "execution_count": 15,
   "metadata": {},
   "outputs": [
    {
     "name": "stdout",
     "output_type": "stream",
     "text": [
      "Found 40520 images belonging to 2 classes.\n",
      "The time of the process: 1.099318027496338 s\n"
     ]
    }
   ],
   "source": [
    "time1=time.time()\n",
    "\n",
    "validation_generator = test_datagen.flow_from_directory(\n",
    "    SMILING_PATH + 'test_set',\n",
    "    target_size = TARGET_SIZE,\n",
    "    batch_size = BATCH_SIZE,\n",
    "    class_mode = 'binary')\n",
    "\n",
    "time2=time.time()\n",
    "print(\"The time of the process:\",time2-time1,\"s\")"
   ]
  },
  {
   "cell_type": "markdown",
   "metadata": {},
   "source": [
    "## 4. Building CNN model"
   ]
  },
  {
   "cell_type": "markdown",
   "metadata": {},
   "source": [
    "### 4.1 Model Definition ：Without Parallel Strategy"
   ]
  },
  {
   "cell_type": "code",
   "execution_count": 16,
   "metadata": {},
   "outputs": [],
   "source": [
    "#TARGET_SIZE = (64, 64)\n",
    "#BATCH_SIZE = 128\n",
    "n_gpus=1\n",
    "\n",
    "from keras.models import Sequential\n",
    "from keras.layers import Conv2D, MaxPooling2D, Flatten, Dense\n",
    "\n",
    "\n",
    "classifier1 = Sequential()\n",
    "classifier1.add(Conv2D(32,kernel_size=(3,3), activation='relu', input_shape=(64,64,3)))\n",
    "classifier1.add(MaxPooling2D(pool_size=(2,2)))\n",
    "classifier1.add(Conv2D(32,kernel_size=(3,3), activation='relu'))\n",
    "classifier1.add(MaxPooling2D(pool_size=(2,2)))\n",
    "classifier1.add(Flatten())\n",
    "classifier1.add(Dense(units= 128, activation='relu'))\n",
    "classifier1.add(Dense(units= 1, activation='sigmoid'))\n",
    "classifier1.compile(optimizer=\"adam\", loss=\"binary_crossentropy\", metrics=[\"accuracy\"])"
   ]
  },
  {
   "cell_type": "markdown",
   "metadata": {},
   "source": [
    "### 4.2 Model Definition ：With MirroredStrategy"
   ]
  },
  {
   "cell_type": "code",
   "execution_count": 20,
   "metadata": {},
   "outputs": [
    {
     "name": "stdout",
     "output_type": "stream",
     "text": [
      "['GPU:0']\n",
      "INFO:tensorflow:Using MirroredStrategy with devices ('/job:localhost/replica:0/task:0/device:GPU:0',)\n"
     ]
    }
   ],
   "source": [
    "#TARGET_SIZE = (64, 64)\n",
    "#BATCH_SIZE = 128\n",
    "n_gpus=1\n",
    "\n",
    "from keras.models import Sequential\n",
    "from keras.layers import Conv2D, MaxPooling2D, Flatten, Dense\n",
    "\n",
    "device_type = 'GPU'\n",
    "devices = tf.config.experimental.list_physical_devices(device_type)\n",
    "devices_names = [d.name.split(\"e:\")[1] for d in devices]\n",
    "print(devices_names)\n",
    "strategy = tf.distribute.MirroredStrategy(devices= devices_names[:n_gpus])\n",
    "\n",
    "with strategy.scope():\n",
    "    classifier2 = Sequential()\n",
    "    classifier2.add(Conv2D(32,kernel_size=(3,3), activation='relu', input_shape=(64,64,3)))\n",
    "    classifier2.add(MaxPooling2D(pool_size=(2,2)))\n",
    "    classifier2.add(Conv2D(32,kernel_size=(3,3), activation='relu'))\n",
    "    classifier2.add(MaxPooling2D(pool_size=(2,2)))\n",
    "    classifier2.add(Flatten())\n",
    "    classifier2.add(Dense(units= 128, activation='relu'))\n",
    "    classifier2.add(Dense(units= 1, activation='sigmoid'))\n",
    "    classifier2.compile(optimizer=\"adam\", loss=\"binary_crossentropy\", metrics=[\"accuracy\"])\n"
   ]
  },
  {
   "cell_type": "markdown",
   "metadata": {},
   "source": [
    "### 4.3 Model Definition ：With OneDeviceStrategy"
   ]
  },
  {
   "cell_type": "code",
   "execution_count": 21,
   "metadata": {},
   "outputs": [
    {
     "name": "stdout",
     "output_type": "stream",
     "text": [
      "['GPU:0']\n"
     ]
    }
   ],
   "source": [
    "#TARGET_SIZE = (64, 64)\n",
    "#BATCH_SIZE = 128\n",
    "n_gpus=1\n",
    "\n",
    "from keras.models import Sequential\n",
    "from keras.layers import Conv2D, MaxPooling2D, Flatten, Dense\n",
    "\n",
    "device_type = 'GPU'\n",
    "devices = tf.config.experimental.list_physical_devices(device_type)\n",
    "devices_names = [d.name.split(\"e:\")[1] for d in devices]\n",
    "print(devices_names)\n",
    "#strategy = tf.distribute.MirroredStrategy(devices= devices_names[:n_gpus])\n",
    "strategy = tf.distribute.OneDeviceStrategy(device=\"/gpu:0\")\n",
    "\n",
    "\n",
    "with strategy.scope():\n",
    "    classifier3 = Sequential()\n",
    "    classifier3.add(Conv2D(32,kernel_size=(3,3), activation='relu', input_shape=(64,64,3)))\n",
    "    classifier3.add(MaxPooling2D(pool_size=(2,2)))\n",
    "    classifier3.add(Conv2D(32,kernel_size=(3,3), activation='relu'))\n",
    "    classifier3.add(MaxPooling2D(pool_size=(2,2)))\n",
    "    classifier3.add(Flatten())\n",
    "    classifier3.add(Dense(units= 128, activation='relu'))\n",
    "    classifier3.add(Dense(units= 1, activation='sigmoid'))\n",
    "    classifier3.compile(optimizer=\"adam\", loss=\"binary_crossentropy\", metrics=[\"accuracy\"])\n"
   ]
  },
  {
   "cell_type": "code",
   "execution_count": 22,
   "metadata": {},
   "outputs": [
    {
     "name": "stdout",
     "output_type": "stream",
     "text": [
      "Model: \"sequential\"\n",
      "_________________________________________________________________\n",
      " Layer (type)                Output Shape              Param #   \n",
      "=================================================================\n",
      " conv2d (Conv2D)             (None, 62, 62, 32)        896       \n",
      "                                                                 \n",
      " max_pooling2d (MaxPooling2D  (None, 31, 31, 32)       0         \n",
      " )                                                               \n",
      "                                                                 \n",
      " conv2d_1 (Conv2D)           (None, 29, 29, 32)        9248      \n",
      "                                                                 \n",
      " max_pooling2d_1 (MaxPooling  (None, 14, 14, 32)       0         \n",
      " 2D)                                                             \n",
      "                                                                 \n",
      " flatten (Flatten)           (None, 6272)              0         \n",
      "                                                                 \n",
      " dense (Dense)               (None, 128)               802944    \n",
      "                                                                 \n",
      " dense_1 (Dense)             (None, 1)                 129       \n",
      "                                                                 \n",
      "=================================================================\n",
      "Total params: 813,217\n",
      "Trainable params: 813,217\n",
      "Non-trainable params: 0\n",
      "_________________________________________________________________\n",
      "None\n"
     ]
    }
   ],
   "source": [
    "#classifier.compile(optimizer=\"adam\", loss=\"binary_crossentropy\", metrics=[\"accuracy\"])\n",
    "print(classifier1.summary())"
   ]
  },
  {
   "cell_type": "code",
   "execution_count": 4,
   "metadata": {},
   "outputs": [],
   "source": [
    "# # Allow memory growth for the GPU\n",
    "# physical_devices = tf.config.experimental.list_physical_devices('GPU')\n",
    "# tf.config.experimental.set_memory_growth(physical_devices[0], True)"
   ]
  },
  {
   "cell_type": "code",
   "execution_count": 16,
   "metadata": {},
   "outputs": [],
   "source": [
    "# import os\n",
    "# os.environ['KMP_DUPLICATE_LIB_OK']=\"TRUE\""
   ]
  },
  {
   "cell_type": "markdown",
   "metadata": {},
   "source": [
    "## 5. Model Training"
   ]
  },
  {
   "cell_type": "markdown",
   "metadata": {},
   "source": [
    "### 5.1 CPU computation\n",
    "*Modified on local machine (Training on Tensorflow CPU version)*"
   ]
  },
  {
   "cell_type": "code",
   "execution_count": 32,
   "metadata": {},
   "outputs": [
    {
     "name": "stdout",
     "output_type": "stream",
     "text": [
      "Epoch 1/12\n",
      "1266/1266 [==============================] - 408s 313ms/step - loss: 0.3994 - accuracy: 0.8061 - val_loss: 0.2354 - val_accuracy: 0.9011\n",
      "Epoch 2/12\n",
      "1266/1266 [==============================] - 391s 309ms/step - loss: 0.2519 - accuracy: 0.8942 - val_loss: 0.2228 - val_accuracy: 0.9075\n",
      "Epoch 3/12\n",
      "1266/1266 [==============================] - 396s 313ms/step - loss: 0.2333 - accuracy: 0.9023 - val_loss: 0.2207 - val_accuracy: 0.9071\n",
      "Epoch 4/12\n",
      "1266/1266 [==============================] - 397s 314ms/step - loss: 0.2252 - accuracy: 0.9060 - val_loss: 0.2318 - val_accuracy: 0.9019\n",
      "Epoch 5/12\n",
      "1266/1266 [==============================] - 1299s 1s/step - loss: 0.2216 - accuracy: 0.9073 - val_loss: 0.2125 - val_accuracy: 0.9107\n",
      "Epoch 6/12\n",
      "1266/1266 [==============================] - 368s 291ms/step - loss: 0.2159 - accuracy: 0.9098 - val_loss: 0.2086 - val_accuracy: 0.9120\n",
      "Epoch 7/12\n",
      "1266/1266 [==============================] - 386s 305ms/step - loss: 0.2134 - accuracy: 0.9110 - val_loss: 0.2190 - val_accuracy: 0.9077\n",
      "Epoch 8/12\n",
      "1266/1266 [==============================] - 387s 305ms/step - loss: 0.2107 - accuracy: 0.9113 - val_loss: 0.2023 - val_accuracy: 0.9131\n",
      "Epoch 9/12\n",
      "1266/1266 [==============================] - 385s 304ms/step - loss: 0.2063 - accuracy: 0.9127 - val_loss: 0.2100 - val_accuracy: 0.9116\n",
      "Epoch 10/12\n",
      "1266/1266 [==============================] - 383s 303ms/step - loss: 0.2051 - accuracy: 0.9139 - val_loss: 0.2067 - val_accuracy: 0.9119\n",
      "Epoch 11/12\n",
      "1266/1266 [==============================] - 369s 291ms/step - loss: 0.2025 - accuracy: 0.9147 - val_loss: 0.2102 - val_accuracy: 0.9105\n",
      "Epoch 12/12\n",
      "1266/1266 [==============================] - 364s 288ms/step - loss: 0.2024 - accuracy: 0.9148 - val_loss: 0.2164 - val_accuracy: 0.9075\n"
     ]
    }
   ],
   "source": [
    "#\"This is CPU computation\"\n",
    "#print(\"This is CPU computation\")\n",
    "# time1=time.time()\n",
    "# history = classifier.fit(\n",
    "#     train_generator,\n",
    "#     steps_per_epoch = train_generator.samples // train_generator.batch_size,\n",
    "#     epochs = 12,\n",
    "#     validation_data = validation_generator,\n",
    "#     validation_steps = validation_generator.samples // validation_generator.batch_size\n",
    "# )\n",
    "# time2=time.time()\n",
    "# print(\"The time of the process:\",time2-time1,\"s\")"
   ]
  },
  {
   "cell_type": "markdown",
   "metadata": {},
   "source": [
    "### 5.2 GPU computation without parallel strategy"
   ]
  },
  {
   "cell_type": "code",
   "execution_count": 23,
   "metadata": {},
   "outputs": [
    {
     "name": "stdout",
     "output_type": "stream",
     "text": [
      "This is GPU computation-without parallal strategy:\n",
      "Epoch 1/5\n",
      "1266/1266 [==============================] - 385s 303ms/step - loss: 0.3562 - accuracy: 0.8361 - val_loss: 0.2419 - val_accuracy: 0.8973\n",
      "Epoch 2/5\n",
      "1266/1266 [==============================] - 375s 296ms/step - loss: 0.2512 - accuracy: 0.8946 - val_loss: 0.2416 - val_accuracy: 0.8973\n",
      "Epoch 3/5\n",
      "1266/1266 [==============================] - 375s 296ms/step - loss: 0.2352 - accuracy: 0.9012 - val_loss: 0.2248 - val_accuracy: 0.9047\n",
      "Epoch 4/5\n",
      "1266/1266 [==============================] - 385s 304ms/step - loss: 0.2268 - accuracy: 0.9045 - val_loss: 0.2224 - val_accuracy: 0.9070\n",
      "Epoch 5/5\n",
      "1266/1266 [==============================] - 387s 305ms/step - loss: 0.2197 - accuracy: 0.9076 - val_loss: 0.2073 - val_accuracy: 0.9117\n",
      "The time of the process: 2090.4484980106354 s\n"
     ]
    }
   ],
   "source": [
    "print(\"This is GPU computation-without parallal strategy:\")\n",
    "time1_1=time.time()\n",
    "history1 = classifier1.fit(\n",
    "    train_generator,\n",
    "    steps_per_epoch = train_generator.samples // train_generator.batch_size,\n",
    "    epochs = 5,\n",
    "    validation_data = validation_generator,\n",
    "    validation_steps = validation_generator.samples // validation_generator.batch_size\n",
    ")\n",
    "time2_1=time.time()\n",
    "t1=time2_1-time1_1\n",
    "print(\"The time of the process:\",t1,\"s\")"
   ]
  },
  {
   "cell_type": "markdown",
   "metadata": {},
   "source": [
    "### 5.3 GPU computation with parallel strategy(MirroredStrategy)"
   ]
  },
  {
   "cell_type": "code",
   "execution_count": 24,
   "metadata": {},
   "outputs": [
    {
     "name": "stdout",
     "output_type": "stream",
     "text": [
      "Epoch 1/5\n",
      "1266/1266 [==============================] - 388s 305ms/step - loss: 0.3417 - accuracy: 0.8466 - val_loss: 0.2457 - val_accuracy: 0.8965\n",
      "Epoch 2/5\n",
      "1266/1266 [==============================] - 383s 302ms/step - loss: 0.2613 - accuracy: 0.8888 - val_loss: 0.2304 - val_accuracy: 0.9021\n",
      "Epoch 3/5\n",
      "1266/1266 [==============================] - 418s 330ms/step - loss: 0.2452 - accuracy: 0.8959 - val_loss: 0.2208 - val_accuracy: 0.9081\n",
      "Epoch 4/5\n",
      "1266/1266 [==============================] - 381s 301ms/step - loss: 0.2318 - accuracy: 0.9018 - val_loss: 0.2283 - val_accuracy: 0.9037\n",
      "Epoch 5/5\n",
      "1266/1266 [==============================] - 385s 304ms/step - loss: 0.2249 - accuracy: 0.9052 - val_loss: 0.2144 - val_accuracy: 0.9083\n",
      "This is GPU computation-with Mirrored parallal strategy\n",
      "The time of the process: 1955.1387119293213 s\n"
     ]
    }
   ],
   "source": [
    "#5.3 GPU computation with parallel strategy(MirroredStrategy)\n",
    "time1_2=time.time()\n",
    "history2 = classifier2.fit(\n",
    "    train_generator,\n",
    "    steps_per_epoch = train_generator.samples // train_generator.batch_size,\n",
    "    epochs = 5,\n",
    "    validation_data = validation_generator,\n",
    "    validation_steps = validation_generator.samples // validation_generator.batch_size\n",
    ")\n",
    "time2_2=time.time()\n",
    "t2=time2_2-time1_2\n",
    "print(\"This is GPU computation-with Mirrored parallal strategy\")\n",
    "print(\"The time of the process:\",t2,\"s\")"
   ]
  },
  {
   "cell_type": "markdown",
   "metadata": {},
   "source": [
    "### 5.4 GPU computation with parallel strategy(OneDeviceStrategy)"
   ]
  },
  {
   "cell_type": "code",
   "execution_count": 25,
   "metadata": {},
   "outputs": [
    {
     "name": "stdout",
     "output_type": "stream",
     "text": [
      "Epoch 1/5\n",
      "1266/1266 [==============================] - 386s 305ms/step - loss: 0.3500 - accuracy: 0.8398 - val_loss: 0.2615 - val_accuracy: 0.8877\n",
      "Epoch 2/5\n",
      "1266/1266 [==============================] - 385s 304ms/step - loss: 0.2647 - accuracy: 0.8882 - val_loss: 0.2337 - val_accuracy: 0.9017\n",
      "Epoch 3/5\n",
      "1266/1266 [==============================] - 386s 305ms/step - loss: 0.2498 - accuracy: 0.8940 - val_loss: 0.2252 - val_accuracy: 0.9045\n",
      "Epoch 4/5\n",
      "1266/1266 [==============================] - 395s 312ms/step - loss: 0.2409 - accuracy: 0.8983 - val_loss: 0.2388 - val_accuracy: 0.8979\n",
      "Epoch 5/5\n",
      "1266/1266 [==============================] - 404s 319ms/step - loss: 0.2324 - accuracy: 0.9019 - val_loss: 0.2197 - val_accuracy: 0.9071\n",
      "This is GPU computation-with OneDevice parallal strategy\n",
      "The time of the process: 1956.7674617767334 s\n"
     ]
    }
   ],
   "source": [
    "# 5.4 GPU computation with parallel strategy(OneDeviceStrategy)\n",
    "time1_3=time.time()\n",
    "history3 = classifier3.fit(\n",
    "    train_generator,\n",
    "    steps_per_epoch = train_generator.samples // train_generator.batch_size,\n",
    "    epochs = 5,\n",
    "    validation_data = validation_generator,\n",
    "    validation_steps = validation_generator.samples // validation_generator.batch_size\n",
    ")\n",
    "time2_3=time.time()\n",
    "t3=time2_3-time1_3\n",
    "print(\"This is GPU computation-with OneDevice parallal strategy\")\n",
    "print(\"The time of the process:\",t3,\"s\")"
   ]
  },
  {
   "cell_type": "markdown",
   "metadata": {},
   "source": [
    "### 5.5 Multi-GPU computation(2 GPU Mirror Strategic)"
   ]
  },
  {
   "cell_type": "code",
   "execution_count": 26,
   "metadata": {},
   "outputs": [
    {
     "name": "stdout",
     "output_type": "stream",
     "text": [
      "['GPU:0']\n",
      "INFO:tensorflow:Using MirroredStrategy with devices ('/job:localhost/replica:0/task:0/device:GPU:0',)\n"
     ]
    }
   ],
   "source": [
    "#TARGET_SIZE = (64, 64)\n",
    "#BATCH_SIZE = 128\n",
    "n_gpus=2\n",
    "\n",
    "from keras.models import Sequential\n",
    "from keras.layers import Conv2D, MaxPooling2D, Flatten, Dense\n",
    "\n",
    "device_type = 'GPU'\n",
    "devices = tf.config.experimental.list_physical_devices(device_type)\n",
    "devices_names = [d.name.split(\"e:\")[1] for d in devices]\n",
    "print(devices_names)\n",
    "strategy = tf.distribute.MirroredStrategy(devices= devices_names[:n_gpus])\n",
    "\n",
    "with strategy.scope():\n",
    "    classifier4 = Sequential()\n",
    "    classifier4.add(Conv2D(32,kernel_size=(3,3), activation='relu', input_shape=(64,64,3)))\n",
    "    classifier4.add(MaxPooling2D(pool_size=(2,2)))\n",
    "    classifier4.add(Conv2D(32,kernel_size=(3,3), activation='relu'))\n",
    "    classifier4.add(MaxPooling2D(pool_size=(2,2)))\n",
    "    classifier4.add(Flatten())\n",
    "    classifier4.add(Dense(units= 128, activation='relu'))\n",
    "    classifier4.add(Dense(units= 1, activation='sigmoid'))\n",
    "    classifier4.compile(optimizer=\"adam\", loss=\"binary_crossentropy\", metrics=[\"accuracy\"])\n"
   ]
  },
  {
   "cell_type": "code",
   "execution_count": 27,
   "metadata": {},
   "outputs": [
    {
     "name": "stdout",
     "output_type": "stream",
     "text": [
      "Epoch 1/5\n",
      "1266/1266 [==============================] - 392s 308ms/step - loss: 0.3545 - accuracy: 0.8356 - val_loss: 0.2833 - val_accuracy: 0.8768\n",
      "Epoch 2/5\n",
      "1266/1266 [==============================] - 427s 337ms/step - loss: 0.2600 - accuracy: 0.8903 - val_loss: 0.2352 - val_accuracy: 0.9016\n",
      "Epoch 3/5\n",
      "1266/1266 [==============================] - 398s 315ms/step - loss: 0.2412 - accuracy: 0.8984 - val_loss: 0.2180 - val_accuracy: 0.9072\n",
      "Epoch 4/5\n",
      "1266/1266 [==============================] - 395s 312ms/step - loss: 0.2326 - accuracy: 0.9021 - val_loss: 0.2208 - val_accuracy: 0.9054\n",
      "Epoch 5/5\n",
      "1266/1266 [==============================] - 393s 310ms/step - loss: 0.2254 - accuracy: 0.9054 - val_loss: 0.2224 - val_accuracy: 0.9055\n",
      "This is Multi-GPU computation(2 GPU Mirror Strategic)\n",
      "The time of the process: 2006.0654919147491 s\n"
     ]
    }
   ],
   "source": [
    "#Multi-GPU computation(2 GPU Mirror Strategic)\n",
    "time1_4=time.time()\n",
    "history4 = classifier4.fit(\n",
    "    train_generator,\n",
    "    steps_per_epoch = train_generator.samples // train_generator.batch_size,\n",
    "    epochs = 5,\n",
    "    validation_data = validation_generator,\n",
    "    validation_steps = validation_generator.samples // validation_generator.batch_size\n",
    ")\n",
    "time2_4=time.time()\n",
    "t4=time2_4-time1_4\n",
    "print(\"This is Multi-GPU computation(2 GPU Mirror Strategic)\")\n",
    "print(\"The time of the process:\",t4,\"s\")"
   ]
  },
  {
   "cell_type": "code",
   "execution_count": 62,
   "metadata": {},
   "outputs": [
    {
     "data": {
      "image/png": "[encoded data removed]",
      "text/plain": [
       "<Figure size 432x288 with 1 Axes>"
      ]
     },
     "metadata": {
      "needs_background": "light"
     },
     "output_type": "display_data"
    }
   ],
   "source": [
    "import matplotlib.pyplot as plt\n",
    "fig = plt.figure()\n",
    "ax = fig.add_axes([0,0,1,1])\n",
    "langs = [\"No Strategy\", \"Mirrored Strategy\",\"One device Strategy\"]\n",
    "students = [t1,t2,t3]\n",
    "ax.bar(langs,students)\n",
    "plt.ylim((1800, 2200))\n",
    "ax.set_ylabel('Elapsed time/s')\n",
    "ax.set_title('The trend curve of speedup of using different strategy or not')\n",
    "plt.grid(color = 'grey', linestyle = 'dashed')\n",
    "plt.savefig(\"CNN.png\")\n",
    "plt.show()"
   ]
  },
  {
   "cell_type": "code",
   "execution_count": 34,
   "metadata": {},
   "outputs": [
    {
     "data": {
      "image/png": "[encoded data removed]",
      "text/plain": [
       "<Figure size 864x432 with 1 Axes>"
      ]
     },
     "metadata": {
      "needs_background": "light"
     },
     "output_type": "display_data"
    }
   ],
   "source": [
    "import matplotlib.pyplot as plt\n",
    "y=[622,382,382,207,143]\n",
    "fig = plt.figure(figsize=(12,6))\n",
    "ax = fig.add_axes([0,0,1,1])\n",
    "x_label = [\"No Strategy(K80)\", \"Mirrored Strategy(K80)\",\"One device Strategy(K80)\", \"Mirrored Strategy(V100)\", \"Mirrored Strategy(v100)-2 GPU\"]\n",
    "#plt.xticks(x, x_label)\n",
    "#students = [t1,t2,t3,t4,t5]\n",
    "#plt.figure(figsize=(20, 6.5))\n",
    "ax.bar(x_label,y,width=0.8)\n",
    "#plt.ylim((1800, 2200))\n",
    "ax.set_ylabel('Elapsed time/s')\n",
    "ax.set_title('The trend curve of speedup of using different strategy or not')\n",
    "plt.grid(color = 'grey', linestyle = 'dashed')\n",
    "plt.savefig(\"CNN2.png\")\n",
    "plt.show()"
   ]
  },
  {
   "cell_type": "markdown",
   "metadata": {},
   "source": [
    "## 6. Save the CNN model\n",
    "*Modified on local machine*"
   ]
  },
  {
   "cell_type": "code",
   "execution_count": 63,
   "metadata": {},
   "outputs": [
    {
     "name": "stdout",
     "output_type": "stream",
     "text": [
      "WARNING:tensorflow:Compiled the loaded model, but the compiled metrics have yet to be built. `model.compile_metrics` will be empty until you train or evaluate the model.\n"
     ]
    }
   ],
   "source": [
    "#classifier.save('C:/Users/Razer/Desktop/Data/smiling_model.h5')"
   ]
  },
  {
   "cell_type": "code",
   "execution_count": 57,
   "metadata": {},
   "outputs": [],
   "source": [
    "# from keras.models import load_model\n",
    "# classifier= load_model('./exported_model/smiling_model.h5')"
   ]
  },
  {
   "cell_type": "markdown",
   "metadata": {},
   "source": [
    "## 7. Result analysis\n",
    "*Modified on local machine(Version with 10 epoches) *"
   ]
  },
  {
   "cell_type": "code",
   "execution_count": 36,
   "metadata": {
    "tags": []
   },
   "outputs": [
    {
     "data": {
      "image/png": "[encoded data removed]",
      "text/plain": [
       "<Figure size 432x288 with 1 Axes>"
      ]
     },
     "metadata": {
      "needs_background": "light"
     },
     "output_type": "display_data"
    }
   ],
   "source": [
    "loss_values = history1.history['loss']\n",
    "epochs = range(1, len(loss_values) + 1)\n",
    "\n",
    "plt.plot(epochs, loss_values, label=' Training Loss')\n",
    "plt.xlabel('Epochs')\n",
    "plt.ylabel('Loss')\n",
    "plt.legend()\n",
    "plt.show()"
   ]
  },
  {
   "cell_type": "code",
   "execution_count": 37,
   "metadata": {},
   "outputs": [
    {
     "data": {
      "image/png": "[encoded data removed]",
      "text/plain": [
       "<Figure size 576x288 with 1 Axes>"
      ]
     },
     "metadata": {
      "needs_background": "light"
     },
     "output_type": "display_data"
    }
   ],
   "source": [
    "plt.figure(figsize=(8, 4))\n",
    "plt.plot(history1.history['accuracy'], label = 'train')\n",
    "plt.plot(history1.history['val_accuracy'], label = 'valid')\n",
    "plt.legend()\n",
    "plt.title('Accuracy')\n",
    "plt.show()"
   ]
  },
  {
   "cell_type": "code",
   "execution_count": 53,
   "metadata": {},
   "outputs": [
    {
     "data": {
      "image/png": "[encoded data removed]",
      "text/plain": [
       "<Figure size 576x288 with 1 Axes>"
      ]
     },
     "metadata": {
      "needs_background": "light"
     },
     "output_type": "display_data"
    }
   ],
   "source": [
    "#The plot comes from original 12 epoch CPU training result\n",
    "# plt.figure(figsize=(8, 4))\n",
    "# plt.plot(history.history['accuracy'], label = 'train')\n",
    "# plt.plot(history.history['val_accuracy'], label = 'valid')\n",
    "# plt.legend()\n",
    "# plt.title('Accuracy')\n",
    "# plt.show()"
   ]
  },
  {
   "cell_type": "code",
   "execution_count": null,
   "metadata": {},
   "outputs": [],
   "source": [
    "# from sklearn.metrics import accuracy_score, confusion_matrix, classification_report\n",
    "# print(classification_report(y_val, predictions))"
   ]
  },
  {
   "cell_type": "code",
   "execution_count": 38,
   "metadata": {},
   "outputs": [
    {
     "name": "stdout",
     "output_type": "stream",
     "text": [
      "The time of the process with dask array: 48.085185527801514 s\n"
     ]
    }
   ],
   "source": [
    "time1=time.time()\n",
    "results = classifier1.evaluate(validation_generator, verbose=0)\n",
    "#results\n",
    "time2=time.time()\n",
    "print(\"The time of the process with dask array:\",time2-time1,\"s\")"
   ]
  },
  {
   "cell_type": "code",
   "execution_count": 39,
   "metadata": {},
   "outputs": [
    {
     "data": {
      "text/plain": [
       "[0.20723605155944824, 0.9117719531059265]"
      ]
     },
     "execution_count": 39,
     "metadata": {},
     "output_type": "execute_result"
    }
   ],
   "source": [
    "results"
   ]
  },
  {
   "cell_type": "code",
   "execution_count": 77,
   "metadata": {},
   "outputs": [],
   "source": [
    "# predictions = classifier1.predict(validation_generator)\n",
    "# predictions = (predictions > 0.5)"
   ]
  },
  {
   "cell_type": "code",
   "execution_count": 1,
   "metadata": {},
   "outputs": [],
   "source": [
    "# from sklearn.metrics import confusion_matrix\n",
    "# import seaborn as sns\n",
    "\n",
    "# cm = confusion_matrix(validation_generator.classes, predictions)\n",
    "# plt.figure(figsize=(6,6))\n",
    "# sns.heatmap(cm, annot=True, fmt=\".3f\", linewidths=.5, square=True, cmap=\"Blues_r\")\n",
    "# plt.xlabel(\"Predicted label\")\n",
    "# plt.ylabel(\"Actual label\")\n",
    "# plt.show()"
   ]
  },
  {
   "cell_type": "markdown",
   "metadata": {},
   "source": [
    "# -------------------------------------------------------------"
   ]
  },
  {
   "cell_type": "markdown",
   "metadata": {},
   "source": [
    "## 8. Predict a single image"
   ]
  },
  {
   "cell_type": "code",
   "execution_count": 18,
   "metadata": {},
   "outputs": [],
   "source": [
    "from keras_preprocessing import image\n",
    "\n",
    "def classify(imagePath):\n",
    "    test_image = image.load_img(imagePath, target_size = (64, 64))\n",
    "    test_image = image.img_to_array(test_image).astype('float32') / 255 \n",
    "    test_image = np.expand_dims(test_image, axis = 0) # add an extra dimension to fake batch\n",
    "\n",
    "    result = classifier1.predict(test_image)\n",
    "    if result[0][0] >= 0.5:\n",
    "        prediction = 'smiling'\n",
    "        probability = result[0][0]\n",
    "    else:\n",
    "        prediction = 'not smiling'\n",
    "        probability = 1 - result[0][0]\n",
    "    print(\"This person is \" + prediction + \" (\" + str(probability * 100) + \"%).\")"
   ]
  },
  {
   "cell_type": "code",
   "execution_count": 19,
   "metadata": {},
   "outputs": [],
   "source": [
    "from keras.preprocessing.image import load_img\n",
    "\n",
    "def showImage(imagePath):\n",
    "    img = load_img(imagePath)\n",
    "    plt.imshow(img)\n",
    "    plt.show()"
   ]
  },
  {
   "cell_type": "code",
   "execution_count": 42,
   "metadata": {},
   "outputs": [
    {
     "name": "stdout",
     "output_type": "stream",
     "text": [
      "This person is smiling (99.86271858215332%).\n"
     ]
    },
    {
     "data": {
      "image/png": "[encoded data removed]",
      "text/plain": [
       "<Figure size 432x288 with 1 Axes>"
      ]
     },
     "metadata": {
      "needs_background": "light"
     },
     "output_type": "display_data"
    }
   ],
   "source": [
    "imageToClassify = DATA_PATH + \"000012.jpg\" # Can test from 0 to 3\n",
    "classify(imageToClassify)\n",
    "showImage(imageToClassify)"
   ]
  },
  {
   "cell_type": "markdown",
   "metadata": {},
   "source": [
    "## ----------------------- END -----------------------------"
   ]
  }
 ],
 "metadata": {
  "kernelspec": {
   "display_name": "Python 3",
   "language": "python",
   "name": "python3"
  },
  "language_info": {
   "codemirror_mode": {
    "name": "ipython",
    "version": 3
   },
   "file_extension": ".py",
   "mimetype": "text/x-python",
   "name": "python",
   "nbconvert_exporter": "python",
   "pygments_lexer": "ipython3",
   "version": "3.8.8"
  }
 },
 "nbformat": 4,
 "nbformat_minor": 4
}
